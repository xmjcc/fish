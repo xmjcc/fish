{
 "cells": [
  {
   "cell_type": "markdown",
   "id": "8cbc7416",
   "metadata": {},
   "source": [
    "### Subject: AI Enterprise Systems\n",
    "### Student: Wenping Wang\n",
    "###  Project Name: Fish\n",
    "### Professor: Sajeeva\n",
    "### Durham College"
   ]
  },
  {
   "cell_type": "markdown",
   "id": "877b6389",
   "metadata": {},
   "source": [
    "### 1. Loading Libraries"
   ]
  },
  {
   "cell_type": "code",
   "execution_count": 1,
   "id": "5777527d",
   "metadata": {},
   "outputs": [],
   "source": [
    "import sys\n",
    "import pandas as pd\n",
    "import numpy as np\n",
    "import sklearn\n",
    "# import matplotlib.pyplot as plt\n",
    "from pandas.plotting import scatter_matrix\n",
    "import seaborn as sns"
   ]
  },
  {
   "cell_type": "code",
   "execution_count": 2,
   "id": "5b90667d",
   "metadata": {},
   "outputs": [],
   "source": [
    "\n",
    "from sklearn.linear_model import LogisticRegression\n",
    "from sklearn.neighbors import KNeighborsClassifier\n",
    "from sklearn.naive_bayes import GaussianNB\n",
    "from sklearn.discriminant_analysis import LinearDiscriminantAnalysis\n",
    "\n",
    "from sklearn.model_selection import GridSearchCV, cross_val_score, StratifiedKFold, learning_curve,  KFold\n",
    "from sklearn.model_selection import RepeatedStratifiedKFold\n",
    "from sklearn.model_selection import cross_val_score\n",
    " "
   ]
  },
  {
   "cell_type": "code",
   "execution_count": 3,
   "id": "bf6b02dc",
   "metadata": {},
   "outputs": [
    {
     "name": "stdout",
     "output_type": "stream",
     "text": [
      "1.14.0\n"
     ]
    }
   ],
   "source": [
    "# from tensorflow.keras.models import Model\n",
    "# from tensorflow.keras.layers import Layer, Conv2D, Dense, MaxPooling2D, Input, Flatten\n",
    "import tensorflow as tf\n",
    "print(tf.__version__)"
   ]
  },
  {
   "cell_type": "code",
   "execution_count": 4,
   "id": "08d131dc",
   "metadata": {},
   "outputs": [],
   "source": [
    "import seaborn as sns\n",
    "from sklearn.linear_model import LogisticRegression\n",
    "from sklearn.model_selection import train_test_split\n",
    "from sklearn.metrics import confusion_matrix\n",
    "from sklearn.metrics import classification_report\n"
   ]
  },
  {
   "cell_type": "markdown",
   "id": "ca30a544",
   "metadata": {},
   "source": [
    "### 2. Loading Dataset"
   ]
  },
  {
   "cell_type": "code",
   "execution_count": 5,
   "id": "e4415a7a",
   "metadata": {},
   "outputs": [],
   "source": [
    "df = pd.read_csv('Fish.csv')"
   ]
  },
  {
   "cell_type": "markdown",
   "id": "31194973",
   "metadata": {},
   "source": [
    "### 3. Analyze Data"
   ]
  },
  {
   "cell_type": "code",
   "execution_count": 6,
   "id": "3353c198",
   "metadata": {},
   "outputs": [
    {
     "data": {
      "text/html": [
       "<div>\n",
       "<style scoped>\n",
       "    .dataframe tbody tr th:only-of-type {\n",
       "        vertical-align: middle;\n",
       "    }\n",
       "\n",
       "    .dataframe tbody tr th {\n",
       "        vertical-align: top;\n",
       "    }\n",
       "\n",
       "    .dataframe thead th {\n",
       "        text-align: right;\n",
       "    }\n",
       "</style>\n",
       "<table border=\"1\" class=\"dataframe\">\n",
       "  <thead>\n",
       "    <tr style=\"text-align: right;\">\n",
       "      <th></th>\n",
       "      <th>Species</th>\n",
       "      <th>Weight</th>\n",
       "      <th>Length1</th>\n",
       "      <th>Length2</th>\n",
       "      <th>Length3</th>\n",
       "      <th>Height</th>\n",
       "      <th>Width</th>\n",
       "    </tr>\n",
       "  </thead>\n",
       "  <tbody>\n",
       "    <tr>\n",
       "      <th>0</th>\n",
       "      <td>Bream</td>\n",
       "      <td>242.0</td>\n",
       "      <td>23.2</td>\n",
       "      <td>25.4</td>\n",
       "      <td>30.0</td>\n",
       "      <td>11.5200</td>\n",
       "      <td>4.0200</td>\n",
       "    </tr>\n",
       "    <tr>\n",
       "      <th>1</th>\n",
       "      <td>Bream</td>\n",
       "      <td>290.0</td>\n",
       "      <td>24.0</td>\n",
       "      <td>26.3</td>\n",
       "      <td>31.2</td>\n",
       "      <td>12.4800</td>\n",
       "      <td>4.3056</td>\n",
       "    </tr>\n",
       "    <tr>\n",
       "      <th>2</th>\n",
       "      <td>Bream</td>\n",
       "      <td>340.0</td>\n",
       "      <td>23.9</td>\n",
       "      <td>26.5</td>\n",
       "      <td>31.1</td>\n",
       "      <td>12.3778</td>\n",
       "      <td>4.6961</td>\n",
       "    </tr>\n",
       "    <tr>\n",
       "      <th>3</th>\n",
       "      <td>Bream</td>\n",
       "      <td>363.0</td>\n",
       "      <td>26.3</td>\n",
       "      <td>29.0</td>\n",
       "      <td>33.5</td>\n",
       "      <td>12.7300</td>\n",
       "      <td>4.4555</td>\n",
       "    </tr>\n",
       "    <tr>\n",
       "      <th>4</th>\n",
       "      <td>Bream</td>\n",
       "      <td>430.0</td>\n",
       "      <td>26.5</td>\n",
       "      <td>29.0</td>\n",
       "      <td>34.0</td>\n",
       "      <td>12.4440</td>\n",
       "      <td>5.1340</td>\n",
       "    </tr>\n",
       "  </tbody>\n",
       "</table>\n",
       "</div>"
      ],
      "text/plain": [
       "  Species  Weight  Length1  Length2  Length3   Height   Width\n",
       "0   Bream   242.0     23.2     25.4     30.0  11.5200  4.0200\n",
       "1   Bream   290.0     24.0     26.3     31.2  12.4800  4.3056\n",
       "2   Bream   340.0     23.9     26.5     31.1  12.3778  4.6961\n",
       "3   Bream   363.0     26.3     29.0     33.5  12.7300  4.4555\n",
       "4   Bream   430.0     26.5     29.0     34.0  12.4440  5.1340"
      ]
     },
     "execution_count": 6,
     "metadata": {},
     "output_type": "execute_result"
    }
   ],
   "source": [
    "df.head()"
   ]
  },
  {
   "cell_type": "code",
   "execution_count": 7,
   "id": "56e9d252",
   "metadata": {},
   "outputs": [
    {
     "data": {
      "text/html": [
       "<div>\n",
       "<style scoped>\n",
       "    .dataframe tbody tr th:only-of-type {\n",
       "        vertical-align: middle;\n",
       "    }\n",
       "\n",
       "    .dataframe tbody tr th {\n",
       "        vertical-align: top;\n",
       "    }\n",
       "\n",
       "    .dataframe thead th {\n",
       "        text-align: right;\n",
       "    }\n",
       "</style>\n",
       "<table border=\"1\" class=\"dataframe\">\n",
       "  <thead>\n",
       "    <tr style=\"text-align: right;\">\n",
       "      <th></th>\n",
       "      <th>Weight</th>\n",
       "      <th>Length1</th>\n",
       "      <th>Length2</th>\n",
       "      <th>Length3</th>\n",
       "      <th>Height</th>\n",
       "      <th>Width</th>\n",
       "    </tr>\n",
       "  </thead>\n",
       "  <tbody>\n",
       "    <tr>\n",
       "      <th>count</th>\n",
       "      <td>159.000000</td>\n",
       "      <td>159.000000</td>\n",
       "      <td>159.000000</td>\n",
       "      <td>159.000000</td>\n",
       "      <td>159.000000</td>\n",
       "      <td>159.000000</td>\n",
       "    </tr>\n",
       "    <tr>\n",
       "      <th>mean</th>\n",
       "      <td>398.326415</td>\n",
       "      <td>26.247170</td>\n",
       "      <td>28.415723</td>\n",
       "      <td>31.227044</td>\n",
       "      <td>8.970994</td>\n",
       "      <td>4.417486</td>\n",
       "    </tr>\n",
       "    <tr>\n",
       "      <th>std</th>\n",
       "      <td>357.978317</td>\n",
       "      <td>9.996441</td>\n",
       "      <td>10.716328</td>\n",
       "      <td>11.610246</td>\n",
       "      <td>4.286208</td>\n",
       "      <td>1.685804</td>\n",
       "    </tr>\n",
       "    <tr>\n",
       "      <th>min</th>\n",
       "      <td>0.000000</td>\n",
       "      <td>7.500000</td>\n",
       "      <td>8.400000</td>\n",
       "      <td>8.800000</td>\n",
       "      <td>1.728400</td>\n",
       "      <td>1.047600</td>\n",
       "    </tr>\n",
       "    <tr>\n",
       "      <th>25%</th>\n",
       "      <td>120.000000</td>\n",
       "      <td>19.050000</td>\n",
       "      <td>21.000000</td>\n",
       "      <td>23.150000</td>\n",
       "      <td>5.944800</td>\n",
       "      <td>3.385650</td>\n",
       "    </tr>\n",
       "    <tr>\n",
       "      <th>50%</th>\n",
       "      <td>273.000000</td>\n",
       "      <td>25.200000</td>\n",
       "      <td>27.300000</td>\n",
       "      <td>29.400000</td>\n",
       "      <td>7.786000</td>\n",
       "      <td>4.248500</td>\n",
       "    </tr>\n",
       "    <tr>\n",
       "      <th>75%</th>\n",
       "      <td>650.000000</td>\n",
       "      <td>32.700000</td>\n",
       "      <td>35.500000</td>\n",
       "      <td>39.650000</td>\n",
       "      <td>12.365900</td>\n",
       "      <td>5.584500</td>\n",
       "    </tr>\n",
       "    <tr>\n",
       "      <th>max</th>\n",
       "      <td>1650.000000</td>\n",
       "      <td>59.000000</td>\n",
       "      <td>63.400000</td>\n",
       "      <td>68.000000</td>\n",
       "      <td>18.957000</td>\n",
       "      <td>8.142000</td>\n",
       "    </tr>\n",
       "  </tbody>\n",
       "</table>\n",
       "</div>"
      ],
      "text/plain": [
       "            Weight     Length1     Length2     Length3      Height       Width\n",
       "count   159.000000  159.000000  159.000000  159.000000  159.000000  159.000000\n",
       "mean    398.326415   26.247170   28.415723   31.227044    8.970994    4.417486\n",
       "std     357.978317    9.996441   10.716328   11.610246    4.286208    1.685804\n",
       "min       0.000000    7.500000    8.400000    8.800000    1.728400    1.047600\n",
       "25%     120.000000   19.050000   21.000000   23.150000    5.944800    3.385650\n",
       "50%     273.000000   25.200000   27.300000   29.400000    7.786000    4.248500\n",
       "75%     650.000000   32.700000   35.500000   39.650000   12.365900    5.584500\n",
       "max    1650.000000   59.000000   63.400000   68.000000   18.957000    8.142000"
      ]
     },
     "execution_count": 7,
     "metadata": {},
     "output_type": "execute_result"
    }
   ],
   "source": [
    "df.describe()"
   ]
  },
  {
   "cell_type": "code",
   "execution_count": 25,
   "id": "59d080a7",
   "metadata": {},
   "outputs": [
    {
     "name": "stdout",
     "output_type": "stream",
     "text": [
      "<class 'pandas.core.frame.DataFrame'>\n",
      "RangeIndex: 159 entries, 0 to 158\n",
      "Data columns (total 7 columns):\n",
      " #   Column   Non-Null Count  Dtype  \n",
      "---  ------   --------------  -----  \n",
      " 0   Species  159 non-null    object \n",
      " 1   Weight   159 non-null    float64\n",
      " 2   Length1  159 non-null    float64\n",
      " 3   Length2  159 non-null    float64\n",
      " 4   Length3  159 non-null    float64\n",
      " 5   Height   159 non-null    float64\n",
      " 6   Width    159 non-null    float64\n",
      "dtypes: float64(6), object(1)\n",
      "memory usage: 8.8+ KB\n"
     ]
    }
   ],
   "source": [
    "# to check if there is any null value and to know the type of the columns\n",
    "df.info()"
   ]
  },
  {
   "cell_type": "code",
   "execution_count": 26,
   "id": "e193a22e",
   "metadata": {},
   "outputs": [
    {
     "name": "stderr",
     "output_type": "stream",
     "text": [
      "c:\\Users\\benja\\anaconda3\\envs\\ML_PY37\\lib\\site-packages\\seaborn\\_decorators.py:43: FutureWarning: Pass the following variable as a keyword arg: x. From version 0.12, the only valid positional argument will be `data`, and passing other arguments without an explicit keyword will result in an error or misinterpretation.\n",
      "  FutureWarning\n"
     ]
    },
    {
     "ename": "NameError",
     "evalue": "name 'plt' is not defined",
     "output_type": "error",
     "traceback": [
      "\u001b[1;31m---------------------------------------------------------------------------\u001b[0m",
      "\u001b[1;31mNameError\u001b[0m                                 Traceback (most recent call last)",
      "\u001b[1;32m~\\AppData\\Local\\Temp\\ipykernel_5460\\1869606832.py\u001b[0m in \u001b[0;36m<module>\u001b[1;34m\u001b[0m\n\u001b[0;32m      1\u001b[0m \u001b[1;31m# Count of Target data to see if there is any unbalance of data\u001b[0m\u001b[1;33m\u001b[0m\u001b[1;33m\u001b[0m\u001b[1;33m\u001b[0m\u001b[0m\n\u001b[0;32m      2\u001b[0m \u001b[0msns\u001b[0m\u001b[1;33m.\u001b[0m\u001b[0mcountplot\u001b[0m\u001b[1;33m(\u001b[0m\u001b[0mdf\u001b[0m\u001b[1;33m[\u001b[0m\u001b[1;34m'Species'\u001b[0m\u001b[1;33m]\u001b[0m\u001b[1;33m)\u001b[0m\u001b[1;33m\u001b[0m\u001b[1;33m\u001b[0m\u001b[0m\n\u001b[1;32m----> 3\u001b[1;33m \u001b[0mplt\u001b[0m\u001b[1;33m.\u001b[0m\u001b[0mshow\u001b[0m\u001b[1;33m(\u001b[0m\u001b[1;33m)\u001b[0m\u001b[1;33m\u001b[0m\u001b[1;33m\u001b[0m\u001b[0m\n\u001b[0m",
      "\u001b[1;31mNameError\u001b[0m: name 'plt' is not defined"
     ]
    },
    {
     "data": {
      "image/png": "[encoded data removed]",
      "text/plain": [
       "<Figure size 432x288 with 1 Axes>"
      ]
     },
     "metadata": {
      "needs_background": "light"
     },
     "output_type": "display_data"
    }
   ],
   "source": [
    "# Count of Target data to see if there is any unbalance of data\n",
    "sns.countplot(df['Species'])\n",
    "plt.show()"
   ]
  },
  {
   "cell_type": "code",
   "execution_count": null,
   "id": "7bb539c3",
   "metadata": {},
   "outputs": [
    {
     "data": {
      "image/png": "[encoded data removed]",
      "text/plain": [
       "<Figure size 864x864 with 2 Axes>"
      ]
     },
     "metadata": {
      "needs_background": "light"
     },
     "output_type": "display_data"
    }
   ],
   "source": [
    "# to check correlation of features\n",
    "fig, ax = plt.subplots(figsize=(12,12)) \n",
    "g = sns.heatmap(df.corr(),annot=True, fmt = \".2f\", cmap = \"coolwarm\")\n",
    "\n",
    "plt.show()"
   ]
  },
  {
   "cell_type": "markdown",
   "id": "80560a67",
   "metadata": {},
   "source": [
    "### To check if there are any outliers"
   ]
  },
  {
   "cell_type": "code",
   "execution_count": null,
   "id": "b6706eec",
   "metadata": {},
   "outputs": [
    {
     "data": {
      "image/png": "[encoded data removed]",
      "text/plain": [
       "<Figure size 1080x576 with 1 Axes>"
      ]
     },
     "metadata": {
      "needs_background": "light"
     },
     "output_type": "display_data"
    }
   ],
   "source": [
    "plt.figure(figsize=(15,8))\n",
    "\n",
    "columns2=['Weight','Length1', 'Length2', 'Length3', 'Height', 'Width']\n",
    "\n",
    "boxplot = df.boxplot(column=columns2)  "
   ]
  },
  {
   "cell_type": "code",
   "execution_count": null,
   "id": "c0250d51",
   "metadata": {},
   "outputs": [],
   "source": [
    "df = df[df['Weight']<1500]"
   ]
  },
  {
   "cell_type": "markdown",
   "id": "fd8519b0",
   "metadata": {},
   "source": [
    "#### there is no outlier find by looking at the graph from the above."
   ]
  },
  {
   "cell_type": "code",
   "execution_count": null,
   "id": "50787fc7",
   "metadata": {},
   "outputs": [
    {
     "data": {
      "text/plain": [
       "'Standardize the features '"
      ]
     },
     "execution_count": 18,
     "metadata": {},
     "output_type": "execute_result"
    }
   ],
   "source": [
    "\"\"\"Standardize the features \"\"\""
   ]
  },
  {
   "cell_type": "code",
   "execution_count": null,
   "id": "059c0356",
   "metadata": {},
   "outputs": [
    {
     "data": {
      "text/html": [
       "<div>\n",
       "<style scoped>\n",
       "    .dataframe tbody tr th:only-of-type {\n",
       "        vertical-align: middle;\n",
       "    }\n",
       "\n",
       "    .dataframe tbody tr th {\n",
       "        vertical-align: top;\n",
       "    }\n",
       "\n",
       "    .dataframe thead th {\n",
       "        text-align: right;\n",
       "    }\n",
       "</style>\n",
       "<table border=\"1\" class=\"dataframe\">\n",
       "  <thead>\n",
       "    <tr style=\"text-align: right;\">\n",
       "      <th></th>\n",
       "      <th>Species</th>\n",
       "      <th>Weight</th>\n",
       "      <th>Length1</th>\n",
       "      <th>Length2</th>\n",
       "      <th>Length3</th>\n",
       "      <th>Height</th>\n",
       "      <th>Width</th>\n",
       "    </tr>\n",
       "  </thead>\n",
       "  <tbody>\n",
       "    <tr>\n",
       "      <th>0</th>\n",
       "      <td>Bream</td>\n",
       "      <td>242.0</td>\n",
       "      <td>23.2</td>\n",
       "      <td>25.4</td>\n",
       "      <td>30.0</td>\n",
       "      <td>11.5200</td>\n",
       "      <td>4.0200</td>\n",
       "    </tr>\n",
       "    <tr>\n",
       "      <th>1</th>\n",
       "      <td>Bream</td>\n",
       "      <td>290.0</td>\n",
       "      <td>24.0</td>\n",
       "      <td>26.3</td>\n",
       "      <td>31.2</td>\n",
       "      <td>12.4800</td>\n",
       "      <td>4.3056</td>\n",
       "    </tr>\n",
       "    <tr>\n",
       "      <th>2</th>\n",
       "      <td>Bream</td>\n",
       "      <td>340.0</td>\n",
       "      <td>23.9</td>\n",
       "      <td>26.5</td>\n",
       "      <td>31.1</td>\n",
       "      <td>12.3778</td>\n",
       "      <td>4.6961</td>\n",
       "    </tr>\n",
       "    <tr>\n",
       "      <th>3</th>\n",
       "      <td>Bream</td>\n",
       "      <td>363.0</td>\n",
       "      <td>26.3</td>\n",
       "      <td>29.0</td>\n",
       "      <td>33.5</td>\n",
       "      <td>12.7300</td>\n",
       "      <td>4.4555</td>\n",
       "    </tr>\n",
       "    <tr>\n",
       "      <th>4</th>\n",
       "      <td>Bream</td>\n",
       "      <td>430.0</td>\n",
       "      <td>26.5</td>\n",
       "      <td>29.0</td>\n",
       "      <td>34.0</td>\n",
       "      <td>12.4440</td>\n",
       "      <td>5.1340</td>\n",
       "    </tr>\n",
       "  </tbody>\n",
       "</table>\n",
       "</div>"
      ],
      "text/plain": [
       "  Species  Weight  Length1  Length2  Length3   Height   Width\n",
       "0   Bream   242.0     23.2     25.4     30.0  11.5200  4.0200\n",
       "1   Bream   290.0     24.0     26.3     31.2  12.4800  4.3056\n",
       "2   Bream   340.0     23.9     26.5     31.1  12.3778  4.6961\n",
       "3   Bream   363.0     26.3     29.0     33.5  12.7300  4.4555\n",
       "4   Bream   430.0     26.5     29.0     34.0  12.4440  5.1340"
      ]
     },
     "execution_count": 19,
     "metadata": {},
     "output_type": "execute_result"
    }
   ],
   "source": [
    "df.shape\n",
    "df1 = df.copy()\n",
    "df1.head()"
   ]
  },
  {
   "cell_type": "code",
   "execution_count": null,
   "id": "31cad87d",
   "metadata": {},
   "outputs": [],
   "source": [
    "# Data Mapping the target (Alernatives) to digital format"
   ]
  },
  {
   "cell_type": "code",
   "execution_count": null,
   "id": "378f3d82",
   "metadata": {},
   "outputs": [
    {
     "data": {
      "text/plain": [
       "array(['Bream', 'Roach', 'Whitefish', 'Parkki', 'Perch', 'Pike', 'Smelt'],\n",
       "      dtype=object)"
      ]
     },
     "execution_count": 21,
     "metadata": {},
     "output_type": "execute_result"
    }
   ],
   "source": [
    "df1['Species'].unique()"
   ]
  },
  {
   "cell_type": "code",
   "execution_count": null,
   "id": "8b03e8a4",
   "metadata": {},
   "outputs": [],
   "source": [
    "df1['Species']=df1['Species'].map({\"Bream\":0, \"Roach\":1, \"Whitefish\":2, \"Parkki\":3, \"Perch\":4, \"Pike\":5, \"Smelt\":6})"
   ]
  },
  {
   "cell_type": "code",
   "execution_count": null,
   "id": "77991b0a",
   "metadata": {},
   "outputs": [
    {
     "data": {
      "text/plain": [
       "array([0, 1, 2, 3, 4, 5, 6], dtype=int64)"
      ]
     },
     "execution_count": 23,
     "metadata": {},
     "output_type": "execute_result"
    }
   ],
   "source": [
    "df1['Species'].unique()"
   ]
  },
  {
   "cell_type": "code",
   "execution_count": null,
   "id": "31266890",
   "metadata": {},
   "outputs": [
    {
     "data": {
      "text/html": [
       "<div>\n",
       "<style scoped>\n",
       "    .dataframe tbody tr th:only-of-type {\n",
       "        vertical-align: middle;\n",
       "    }\n",
       "\n",
       "    .dataframe tbody tr th {\n",
       "        vertical-align: top;\n",
       "    }\n",
       "\n",
       "    .dataframe thead th {\n",
       "        text-align: right;\n",
       "    }\n",
       "</style>\n",
       "<table border=\"1\" class=\"dataframe\">\n",
       "  <thead>\n",
       "    <tr style=\"text-align: right;\">\n",
       "      <th></th>\n",
       "      <th>Species</th>\n",
       "      <th>Weight</th>\n",
       "      <th>Length1</th>\n",
       "      <th>Length2</th>\n",
       "      <th>Length3</th>\n",
       "      <th>Height</th>\n",
       "      <th>Width</th>\n",
       "    </tr>\n",
       "  </thead>\n",
       "  <tbody>\n",
       "    <tr>\n",
       "      <th>0</th>\n",
       "      <td>0</td>\n",
       "      <td>242.0</td>\n",
       "      <td>23.2</td>\n",
       "      <td>25.4</td>\n",
       "      <td>30.0</td>\n",
       "      <td>11.5200</td>\n",
       "      <td>4.0200</td>\n",
       "    </tr>\n",
       "    <tr>\n",
       "      <th>1</th>\n",
       "      <td>0</td>\n",
       "      <td>290.0</td>\n",
       "      <td>24.0</td>\n",
       "      <td>26.3</td>\n",
       "      <td>31.2</td>\n",
       "      <td>12.4800</td>\n",
       "      <td>4.3056</td>\n",
       "    </tr>\n",
       "    <tr>\n",
       "      <th>2</th>\n",
       "      <td>0</td>\n",
       "      <td>340.0</td>\n",
       "      <td>23.9</td>\n",
       "      <td>26.5</td>\n",
       "      <td>31.1</td>\n",
       "      <td>12.3778</td>\n",
       "      <td>4.6961</td>\n",
       "    </tr>\n",
       "    <tr>\n",
       "      <th>3</th>\n",
       "      <td>0</td>\n",
       "      <td>363.0</td>\n",
       "      <td>26.3</td>\n",
       "      <td>29.0</td>\n",
       "      <td>33.5</td>\n",
       "      <td>12.7300</td>\n",
       "      <td>4.4555</td>\n",
       "    </tr>\n",
       "    <tr>\n",
       "      <th>4</th>\n",
       "      <td>0</td>\n",
       "      <td>430.0</td>\n",
       "      <td>26.5</td>\n",
       "      <td>29.0</td>\n",
       "      <td>34.0</td>\n",
       "      <td>12.4440</td>\n",
       "      <td>5.1340</td>\n",
       "    </tr>\n",
       "  </tbody>\n",
       "</table>\n",
       "</div>"
      ],
      "text/plain": [
       "   Species  Weight  Length1  Length2  Length3   Height   Width\n",
       "0        0   242.0     23.2     25.4     30.0  11.5200  4.0200\n",
       "1        0   290.0     24.0     26.3     31.2  12.4800  4.3056\n",
       "2        0   340.0     23.9     26.5     31.1  12.3778  4.6961\n",
       "3        0   363.0     26.3     29.0     33.5  12.7300  4.4555\n",
       "4        0   430.0     26.5     29.0     34.0  12.4440  5.1340"
      ]
     },
     "execution_count": 24,
     "metadata": {},
     "output_type": "execute_result"
    }
   ],
   "source": [
    "df1.head()"
   ]
  },
  {
   "cell_type": "code",
   "execution_count": null,
   "id": "f82adadc",
   "metadata": {},
   "outputs": [
    {
     "name": "stdout",
     "output_type": "stream",
     "text": [
      "<class 'pandas.core.frame.DataFrame'>\n",
      "Int64Index: 156 entries, 0 to 158\n",
      "Data columns (total 7 columns):\n",
      " #   Column   Non-Null Count  Dtype  \n",
      "---  ------   --------------  -----  \n",
      " 0   Species  156 non-null    int64  \n",
      " 1   Weight   156 non-null    float64\n",
      " 2   Length1  156 non-null    float64\n",
      " 3   Length2  156 non-null    float64\n",
      " 4   Length3  156 non-null    float64\n",
      " 5   Height   156 non-null    float64\n",
      " 6   Width    156 non-null    float64\n",
      "dtypes: float64(6), int64(1)\n",
      "memory usage: 9.8 KB\n"
     ]
    }
   ],
   "source": [
    "df1.info()"
   ]
  },
  {
   "cell_type": "code",
   "execution_count": null,
   "id": "a77a0925",
   "metadata": {},
   "outputs": [
    {
     "data": {
      "text/html": [
       "<div>\n",
       "<style scoped>\n",
       "    .dataframe tbody tr th:only-of-type {\n",
       "        vertical-align: middle;\n",
       "    }\n",
       "\n",
       "    .dataframe tbody tr th {\n",
       "        vertical-align: top;\n",
       "    }\n",
       "\n",
       "    .dataframe thead th {\n",
       "        text-align: right;\n",
       "    }\n",
       "</style>\n",
       "<table border=\"1\" class=\"dataframe\">\n",
       "  <thead>\n",
       "    <tr style=\"text-align: right;\">\n",
       "      <th></th>\n",
       "      <th>Species</th>\n",
       "      <th>Weight</th>\n",
       "      <th>Length1</th>\n",
       "      <th>Length2</th>\n",
       "      <th>Length3</th>\n",
       "      <th>Height</th>\n",
       "      <th>Width</th>\n",
       "    </tr>\n",
       "  </thead>\n",
       "  <tbody>\n",
       "    <tr>\n",
       "      <th>0</th>\n",
       "      <td>0</td>\n",
       "      <td>242.0</td>\n",
       "      <td>23.2</td>\n",
       "      <td>25.4</td>\n",
       "      <td>30.0</td>\n",
       "      <td>11.5200</td>\n",
       "      <td>4.0200</td>\n",
       "    </tr>\n",
       "    <tr>\n",
       "      <th>1</th>\n",
       "      <td>0</td>\n",
       "      <td>290.0</td>\n",
       "      <td>24.0</td>\n",
       "      <td>26.3</td>\n",
       "      <td>31.2</td>\n",
       "      <td>12.4800</td>\n",
       "      <td>4.3056</td>\n",
       "    </tr>\n",
       "    <tr>\n",
       "      <th>2</th>\n",
       "      <td>0</td>\n",
       "      <td>340.0</td>\n",
       "      <td>23.9</td>\n",
       "      <td>26.5</td>\n",
       "      <td>31.1</td>\n",
       "      <td>12.3778</td>\n",
       "      <td>4.6961</td>\n",
       "    </tr>\n",
       "    <tr>\n",
       "      <th>3</th>\n",
       "      <td>0</td>\n",
       "      <td>363.0</td>\n",
       "      <td>26.3</td>\n",
       "      <td>29.0</td>\n",
       "      <td>33.5</td>\n",
       "      <td>12.7300</td>\n",
       "      <td>4.4555</td>\n",
       "    </tr>\n",
       "    <tr>\n",
       "      <th>4</th>\n",
       "      <td>0</td>\n",
       "      <td>430.0</td>\n",
       "      <td>26.5</td>\n",
       "      <td>29.0</td>\n",
       "      <td>34.0</td>\n",
       "      <td>12.4440</td>\n",
       "      <td>5.1340</td>\n",
       "    </tr>\n",
       "    <tr>\n",
       "      <th>...</th>\n",
       "      <td>...</td>\n",
       "      <td>...</td>\n",
       "      <td>...</td>\n",
       "      <td>...</td>\n",
       "      <td>...</td>\n",
       "      <td>...</td>\n",
       "      <td>...</td>\n",
       "    </tr>\n",
       "    <tr>\n",
       "      <th>154</th>\n",
       "      <td>6</td>\n",
       "      <td>12.2</td>\n",
       "      <td>11.5</td>\n",
       "      <td>12.2</td>\n",
       "      <td>13.4</td>\n",
       "      <td>2.0904</td>\n",
       "      <td>1.3936</td>\n",
       "    </tr>\n",
       "    <tr>\n",
       "      <th>155</th>\n",
       "      <td>6</td>\n",
       "      <td>13.4</td>\n",
       "      <td>11.7</td>\n",
       "      <td>12.4</td>\n",
       "      <td>13.5</td>\n",
       "      <td>2.4300</td>\n",
       "      <td>1.2690</td>\n",
       "    </tr>\n",
       "    <tr>\n",
       "      <th>156</th>\n",
       "      <td>6</td>\n",
       "      <td>12.2</td>\n",
       "      <td>12.1</td>\n",
       "      <td>13.0</td>\n",
       "      <td>13.8</td>\n",
       "      <td>2.2770</td>\n",
       "      <td>1.2558</td>\n",
       "    </tr>\n",
       "    <tr>\n",
       "      <th>157</th>\n",
       "      <td>6</td>\n",
       "      <td>19.7</td>\n",
       "      <td>13.2</td>\n",
       "      <td>14.3</td>\n",
       "      <td>15.2</td>\n",
       "      <td>2.8728</td>\n",
       "      <td>2.0672</td>\n",
       "    </tr>\n",
       "    <tr>\n",
       "      <th>158</th>\n",
       "      <td>6</td>\n",
       "      <td>19.9</td>\n",
       "      <td>13.8</td>\n",
       "      <td>15.0</td>\n",
       "      <td>16.2</td>\n",
       "      <td>2.9322</td>\n",
       "      <td>1.8792</td>\n",
       "    </tr>\n",
       "  </tbody>\n",
       "</table>\n",
       "<p>156 rows × 7 columns</p>\n",
       "</div>"
      ],
      "text/plain": [
       "     Species  Weight  Length1  Length2  Length3   Height   Width\n",
       "0          0   242.0     23.2     25.4     30.0  11.5200  4.0200\n",
       "1          0   290.0     24.0     26.3     31.2  12.4800  4.3056\n",
       "2          0   340.0     23.9     26.5     31.1  12.3778  4.6961\n",
       "3          0   363.0     26.3     29.0     33.5  12.7300  4.4555\n",
       "4          0   430.0     26.5     29.0     34.0  12.4440  5.1340\n",
       "..       ...     ...      ...      ...      ...      ...     ...\n",
       "154        6    12.2     11.5     12.2     13.4   2.0904  1.3936\n",
       "155        6    13.4     11.7     12.4     13.5   2.4300  1.2690\n",
       "156        6    12.2     12.1     13.0     13.8   2.2770  1.2558\n",
       "157        6    19.7     13.2     14.3     15.2   2.8728  2.0672\n",
       "158        6    19.9     13.8     15.0     16.2   2.9322  1.8792\n",
       "\n",
       "[156 rows x 7 columns]"
      ]
     },
     "execution_count": 26,
     "metadata": {},
     "output_type": "execute_result"
    }
   ],
   "source": [
    "data = df1.iloc[:,0:13]\n",
    "data"
   ]
  },
  {
   "cell_type": "markdown",
   "id": "a9297956",
   "metadata": {},
   "source": [
    "### Neural Network"
   ]
  },
  {
   "cell_type": "markdown",
   "id": "d9ee2e2e",
   "metadata": {},
   "source": [
    "### Neural Network Model"
   ]
  },
  {
   "cell_type": "code",
   "execution_count": null,
   "id": "bacf8d8a",
   "metadata": {},
   "outputs": [],
   "source": [
    "# Splict the data to training and testing"
   ]
  },
  {
   "cell_type": "code",
   "execution_count": null,
   "id": "0f01236d",
   "metadata": {},
   "outputs": [],
   "source": [
    "from sklearn.utils import shuffle\n",
    "df1 = shuffle(df1)"
   ]
  },
  {
   "cell_type": "code",
   "execution_count": null,
   "id": "8aa91d3b",
   "metadata": {},
   "outputs": [
    {
     "name": "stdout",
     "output_type": "stream",
     "text": [
      "<class 'pandas.core.frame.DataFrame'>\n",
      "Int64Index: 156 entries, 98 to 157\n",
      "Data columns (total 7 columns):\n",
      " #   Column   Non-Null Count  Dtype  \n",
      "---  ------   --------------  -----  \n",
      " 0   Species  156 non-null    int64  \n",
      " 1   Weight   156 non-null    float64\n",
      " 2   Length1  156 non-null    float64\n",
      " 3   Length2  156 non-null    float64\n",
      " 4   Length3  156 non-null    float64\n",
      " 5   Height   156 non-null    float64\n",
      " 6   Width    156 non-null    float64\n",
      "dtypes: float64(6), int64(1)\n",
      "memory usage: 9.8 KB\n"
     ]
    }
   ],
   "source": [
    "df1.info()"
   ]
  },
  {
   "cell_type": "code",
   "execution_count": null,
   "id": "9c18eee2",
   "metadata": {},
   "outputs": [],
   "source": [
    "# Creat dataset for split\n",
    "# X = df1[['Length1', 'Height','Width']]\n",
    "X= df1.drop(columns=['Species', 'Weight'])\n",
    "\n",
    "y = df1.Species.values\n"
   ]
  },
  {
   "cell_type": "code",
   "execution_count": null,
   "id": "2696295c",
   "metadata": {},
   "outputs": [
    {
     "data": {
      "text/plain": [
       "array([[-0.33615518, -0.326449  , -0.41001256, -0.51450127, -0.12593998],\n",
       "       [-0.77618209, -0.79770187, -0.78521103, -0.63453535, -0.48086742],\n",
       "       [ 0.77491278,  0.73899228,  0.77186263, -0.69940108,  0.00520798],\n",
       "       [ 1.92998344,  1.86590132,  1.70047885, -0.26891164,  0.29654125],\n",
       "       [-0.7321794 , -0.72598948, -0.69141142, -0.09593637, -0.64873202]])"
      ]
     },
     "execution_count": 57,
     "metadata": {},
     "output_type": "execute_result"
    }
   ],
   "source": [
    "X[:5,:]"
   ]
  },
  {
   "cell_type": "code",
   "execution_count": null,
   "id": "ad3c48ab",
   "metadata": {},
   "outputs": [
    {
     "data": {
      "text/plain": [
       "array([-0.33615518, -0.326449  , -0.41001256, -0.51450127, -0.12593998])"
      ]
     },
     "execution_count": 63,
     "metadata": {},
     "output_type": "execute_result"
    }
   ],
   "source": [
    "X[0,:]"
   ]
  },
  {
   "cell_type": "code",
   "execution_count": null,
   "id": "f0f1a871",
   "metadata": {},
   "outputs": [
    {
     "data": {
      "text/plain": [
       "array([[-3.36155177e-01, -3.26449001e-01, -4.10012562e-01,\n",
       "        -5.14501273e-01, -1.25939984e-01],\n",
       "       [-7.76182093e-01, -7.97701873e-01, -7.85211035e-01,\n",
       "        -6.34535350e-01, -4.80867420e-01],\n",
       "       [ 7.74912784e-01,  7.38992276e-01,  7.71862627e-01,\n",
       "        -6.99401079e-01,  5.20798372e-03],\n",
       "       [ 1.92998344e+00,  1.86590132e+00,  1.70047885e+00,\n",
       "        -2.68911644e-01,  2.96541255e-01],\n",
       "       [-7.32179401e-01, -7.25989479e-01, -6.91411416e-01,\n",
       "        -9.59363674e-02, -6.48732019e-01],\n",
       "       [-6.22172672e-01, -5.92809320e-01, -6.63271531e-01,\n",
       "        -7.13645556e-01, -5.10384712e-01],\n",
       "       [-2.92152486e-01, -2.85470490e-01, -2.41173249e-01,\n",
       "         4.95743011e-01, -1.39018784e-01],\n",
       "       [ 1.13793499e+00,  1.09755424e+00,  9.78221787e-01,\n",
       "        -5.92776297e-01, -2.39209592e-01],\n",
       "       [-4.02159215e-01, -4.49384533e-01, -3.63112753e-01,\n",
       "        -4.72301430e-01, -4.46670558e-01],\n",
       "       [-6.22172672e-01, -5.92809320e-01, -6.63271531e-01,\n",
       "        -7.95423701e-01, -2.28410582e-01],\n",
       "       [-8.20184784e-01, -8.18191128e-01, -7.85211035e-01,\n",
       "        -7.73592996e-01, -7.20605425e-01],\n",
       "       [-7.98183439e-01, -7.97701873e-01, -7.66451111e-01,\n",
       "        -1.35318366e-02, -6.49691931e-01],\n",
       "       [-3.91158542e-01, -4.39139905e-01, -3.53732791e-01,\n",
       "        -3.60595964e-01, -1.49097859e-01],\n",
       "       [-5.67169308e-01, -5.92809320e-01, -5.88231836e-01,\n",
       "        -5.37584749e-01, -4.96705967e-01],\n",
       "       [ 1.58896258e+00,  1.55856249e+00,  1.42845995e+00,\n",
       "        -2.70303612e-01,  4.52286965e-01],\n",
       "       [-5.67169308e-01, -5.41586182e-01, -6.16371722e-01,\n",
       "        -5.00906381e-01, -4.50990161e-01],\n",
       "       [-9.74194205e-01, -9.30882033e-01, -1.04784997e+00,\n",
       "        -8.70427599e-01, -7.51322607e-01],\n",
       "       [-1.09520161e+00, -1.06406219e+00, -1.13226962e+00,\n",
       "        -1.01222278e+00, -8.60452594e-01],\n",
       "       [ 6.86907401e-01,  7.38992276e-01,  9.31321978e-01,\n",
       "         1.69109590e+00,  7.27901679e-01],\n",
       "       [-1.53522852e+00, -1.57629358e+00, -1.60126771e+00,\n",
       "        -1.51286743e+00, -1.86386053e+00],\n",
       "       [-1.04019824e+00, -1.00259443e+00, -1.06660989e+00,\n",
       "        -8.65045321e-01, -6.32413516e-01],\n",
       "       [ 3.12884523e-01,  2.98473287e-01,  5.27983620e-01,\n",
       "         1.22388169e+00,  3.50176334e-01],\n",
       "       [ 1.79797536e+00,  1.76345504e+00,  1.63481911e+00,\n",
       "        -4.61931265e-01,  3.12139824e-01],\n",
       "       [-7.32179401e-01, -7.25989479e-01, -6.91411416e-01,\n",
       "         1.03207915e-01, -5.79138404e-01],\n",
       "       [ 8.84919513e-01,  8.82417063e-01,  8.46902322e-01,\n",
       "         6.51921869e-01,  1.31860748e+00],\n",
       "       [ 9.72924896e-01,  9.43884829e-01,  8.28142398e-01,\n",
       "         4.37048343e-01,  1.13322449e+00],\n",
       "       [ 9.28710654e-02,  1.24314616e-01,  3.21624460e-01,\n",
       "         8.10327875e-01,  4.54926723e-01],\n",
       "       [-6.88176710e-01, -6.95255596e-01, -6.44511607e-01,\n",
       "        -6.58059617e-01, -6.48792014e-01],\n",
       "       [-1.82145757e-01, -1.52290330e-01,  5.89855291e-02,\n",
       "         8.18679686e-01, -4.20676789e-02],\n",
       "       [-1.82145757e-01, -1.83024213e-01, -1.47373631e-01,\n",
       "         5.60701538e-01, -8.50237378e-02],\n",
       "       [ 5.87901345e-01,  5.85322861e-01,  7.62482665e-01,\n",
       "         1.28123079e+00,  8.11054050e-01],\n",
       "       [ 6.75906728e-01,  7.38992276e-01,  9.68841825e-01,\n",
       "         1.71881927e+00,  1.00639613e+00],\n",
       "       [-5.67169308e-01, -5.41586182e-01, -4.94432218e-01,\n",
       "        -4.44902852e-01, -3.33220966e-01],\n",
       "       [-8.64187476e-01, -8.38680384e-01, -9.16530500e-01,\n",
       "        -8.84718475e-01, -8.03277840e-01],\n",
       "       [-7.21390280e-02, -1.31801075e-01, -2.41173249e-01,\n",
       "        -4.13676360e-01, -1.39018784e-01],\n",
       "       [-4.02159215e-01, -3.87916767e-01, -3.16212944e-01,\n",
       "        -3.28673488e-01, -3.24281786e-01],\n",
       "       [ 1.55596056e+00,  1.55856249e+00,  1.37218018e+00,\n",
       "         6.91732166e-01,  1.74072875e+00],\n",
       "       [ 1.08293163e+00,  1.04633111e+00,  9.31321978e-01,\n",
       "        -3.85373002e-01,  1.20457410e-01],\n",
       "       [ 2.10599420e+00,  2.07079387e+00,  1.93497789e+00,\n",
       "        -2.94895054e-01,  6.00113403e-01],\n",
       "       [ 1.35794845e+00,  1.35366994e+00,  1.49411969e+00,\n",
       "         2.01194462e+00,  1.19675866e+00],\n",
       "       [-1.93146430e-01, -1.31801075e-01,  4.96055673e-02,\n",
       "         7.94969824e-01,  1.92210827e-01],\n",
       "       [-1.55722987e+00, -1.59678283e+00, -1.61064767e+00,\n",
       "        -1.59165284e+00, -1.78910739e+00],\n",
       "       [-1.57923121e+00, -1.63776134e+00, -1.63878756e+00,\n",
       "        -1.56300149e+00, -1.85498135e+00],\n",
       "       [-4.02159215e-01, -3.87916767e-01, -4.75672295e-01,\n",
       "        -3.84677018e-01, -3.91595611e-01],\n",
       "       [ 1.58896258e+00,  1.55856249e+00,  1.40032007e+00,\n",
       "         8.26219515e-01,  1.82430109e+00],\n",
       "       [ 7.74912784e-01,  8.41438553e-01,  1.02512160e+00,\n",
       "         1.75524244e+00,  8.85387230e-01],\n",
       "       [-4.57162579e-01, -4.39139905e-01, -5.22572104e-01,\n",
       "        -6.20847661e-01, -3.90395721e-01],\n",
       "       [ 1.02792826e+00,  1.09755424e+00,  1.25962064e+00,\n",
       "         2.11877820e+00,  1.14966298e+00],\n",
       "       [ 2.49101776e+00,  2.44984510e+00,  2.30079640e+00,\n",
       "        -5.78321241e-03,  1.07718963e+00],\n",
       "       [ 2.89804265e+00,  2.89036408e+00,  2.73227465e+00,\n",
       "         4.02550725e-01,  1.56536484e+00],\n",
       "       [ 5.76900672e-01,  5.85322861e-01,  7.53102704e-01,\n",
       "         1.55015909e+00,  4.54806734e-01],\n",
       "       [ 2.13878467e-01,  2.26760893e-01,  4.15424078e-01,\n",
       "         8.62758686e-01,  1.88551162e-01],\n",
       "       [ 7.85913457e-01,  8.41438553e-01,  1.03450156e+00,\n",
       "         1.84168368e+00,  1.09350814e+00],\n",
       "       [-7.32179401e-01, -6.95255596e-01, -7.57071149e-01,\n",
       "        -7.55984595e-01, -4.92386363e-01],\n",
       "       [ 3.34885869e-01,  3.29207170e-01,  5.27983620e-01,\n",
       "         1.25747453e+00,  2.63304304e-01],\n",
       "       [-1.67823727e+00, -1.71971836e+00, -1.74196714e+00,\n",
       "        -1.56715420e+00, -1.79726664e+00],\n",
       "       [-1.30421439e+00, -1.30993326e+00, -1.36676867e+00,\n",
       "        -1.18946676e+00, -1.16612455e+00],\n",
       "       [ 2.13878467e-01,  2.26760893e-01,  4.24804040e-01,\n",
       "         1.17244846e+00,  2.80822697e-01],\n",
       "       [-1.49122583e+00, -1.51482581e+00, -1.57312783e+00,\n",
       "        -1.54836262e+00, -1.87177981e+00],\n",
       "       [-1.24921103e+00, -1.25871012e+00, -1.23544920e+00,\n",
       "        -5.50738851e-01, -1.23679807e+00],\n",
       "       [-1.72223996e+00, -1.77094150e+00, -1.77948699e+00,\n",
       "        -1.61912102e+00, -1.92925453e+00],\n",
       "       [ 1.23694105e+00,  1.25122366e+00,  1.10016129e+00,\n",
       "         6.90757788e-01,  1.63825816e+00],\n",
       "       [-4.02159215e-01, -3.87916767e-01, -4.75672295e-01,\n",
       "        -5.97648187e-01, -3.30401225e-01],\n",
       "       [-9.30191513e-01, -9.00148150e-01, -9.72810271e-01,\n",
       "        -7.69138697e-01, -7.95238577e-01],\n",
       "       [-5.67169308e-01, -5.41586182e-01, -6.16371722e-01,\n",
       "        -7.18053456e-01, -4.50990161e-01],\n",
       "       [-1.71145084e-01, -1.31801075e-01, -1.19233745e-01,\n",
       "        -1.86924704e-01, -7.63245359e-02],\n",
       "       [ 1.24794172e+00,  1.25122366e+00,  1.11892121e+00,\n",
       "         6.44683633e-01,  1.70941163e+00],\n",
       "       [ 1.20393903e+00,  1.14877738e+00,  1.00636167e+00,\n",
       "         8.07381542e-01,  1.78524467e+00],\n",
       "       [ 6.64906056e-01,  6.36545999e-01,  6.78063009e-01,\n",
       "        -7.52435076e-01, -1.30619554e-01],\n",
       "       [-1.00719622e+00, -9.82105171e-01, -9.63430309e-01,\n",
       "        -8.47436921e-01, -9.32326000e-01],\n",
       "       [-2.81363364e-02, -2.93547985e-02, -1.56753593e-01,\n",
       "        -4.13861956e-01, -2.44292971e-02],\n",
       "       [ 1.59996325e+00,  1.60978563e+00,  1.44721988e+00,\n",
       "         8.47447033e-01,  2.25956115e+00],\n",
       "       [ 1.25873084e-01,  1.96027010e-01,  3.68524269e-01,\n",
       "         1.21295474e+00,  5.41618769e-01],\n",
       "       [ 1.25894239e+00,  1.25122366e+00,  1.11892121e+00,\n",
       "         5.06646764e-01,  1.35244438e+00],\n",
       "       [ 1.19293835e+00,  1.14877738e+00,  1.01574163e+00,\n",
       "         5.07017956e-01,  9.76278891e-01],\n",
       "       [ 8.62918168e-01,  9.43884829e-01,  1.12830118e+00,\n",
       "         2.32130960e+00,  1.33624586e+00],\n",
       "       [ 4.22891252e-01,  4.00919563e-01,  4.15424078e-01,\n",
       "         1.23855447e-01,  5.87514559e-01],\n",
       "       [ 1.02792826e+00,  1.09755424e+00,  1.26900060e+00,\n",
       "         2.10785124e+00,  1.15824220e+00],\n",
       "       [ 3.12884523e-01,  3.29207170e-01,  3.21624460e-01,\n",
       "         4.15936822e-01,  1.31164812e+00],\n",
       "       [ 4.11890579e-01,  4.31653446e-01,  6.21783238e-01,\n",
       "         1.50492012e+00,  7.22502174e-01],\n",
       "       [ 5.32897981e-01,  5.13610468e-01,  3.21624460e-01,\n",
       "         2.50292579e-01,  9.85278065e-01],\n",
       "       [ 3.01883850e-01,  3.29207170e-01,  5.27983620e-01,\n",
       "         1.23227990e+00,  4.37048364e-01],\n",
       "       [ 1.36873757e-01,  9.35807334e-02, -4.41940509e-02,\n",
       "        -3.16888155e-01,  1.55794168e-01],\n",
       "       [-2.81363364e-02, -2.93547985e-02, -1.56753593e-01,\n",
       "        -4.40680547e-01, -2.44292971e-02],\n",
       "       [-6.22172672e-01, -5.92809320e-01, -6.63271531e-01,\n",
       "        -6.59126792e-01, -5.80878244e-01],\n",
       "       [-4.90164598e-01, -4.90363043e-01, -4.47532409e-01,\n",
       "         3.23556517e-01, -4.27232341e-01],\n",
       "       [ 4.11890579e-01,  4.31653446e-01,  6.21783238e-01,\n",
       "         1.39272746e+00,  4.77004698e-01],\n",
       "       [-1.79924467e+00, -1.84265389e+00, -1.85452668e+00,\n",
       "        -1.67322219e+00, -1.99668835e+00],\n",
       "       [ 2.35879813e-01,  2.26760893e-01,  9.65053764e-02,\n",
       "        -3.09835515e-01,  2.37506671e-01],\n",
       "       [-5.01165271e-01, -5.41586182e-01, -5.22572104e-01,\n",
       "        -5.91848318e-01, -3.45399849e-01],\n",
       "       [-1.44722314e+00, -1.44311342e+00, -1.48870817e+00,\n",
       "        -1.25813720e+00, -1.42578073e+00],\n",
       "       [-1.71123929e+00, -1.76069687e+00, -1.77948699e+00,\n",
       "        -1.67563493e+00, -1.93621390e+00],\n",
       "       [ 9.17921532e-01,  8.41438553e-01,  7.24962818e-01,\n",
       "         3.84640731e-01,  1.41891828e+00],\n",
       "       [-2.37149121e-01, -2.24002724e-01, -3.34972867e-01,\n",
       "        -5.54497166e-01, -8.20240130e-02],\n",
       "       [-1.56823054e+00, -1.61727209e+00, -1.62940760e+00,\n",
       "        -1.56520544e+00, -1.93621390e+00],\n",
       "       [-7.21390280e-02, -8.05779368e-02,  2.70575822e-03,\n",
       "        -8.88837274e-02,  2.38706561e-01],\n",
       "       [-7.32179401e-01, -6.95255596e-01, -7.57071149e-01,\n",
       "        -7.03785779e-01, -6.40872740e-01],\n",
       "       [ 5.21897308e-01,  5.34099723e-01,  7.43722742e-01,\n",
       "         1.38892275e+00,  4.93023228e-01],\n",
       "       [-1.64523525e+00, -1.69922911e+00, -1.70444729e+00,\n",
       "        -1.59332320e+00, -1.85894099e+00],\n",
       "       [-5.01376822e-02, -4.98440538e-02, -1.75513516e-01,\n",
       "        -1.45722438e-01,  4.56906542e-01],\n",
       "       [ 1.28094374e+00,  1.25122366e+00,  1.21272083e+00,\n",
       "         7.89448349e-01,  1.28945016e+00],\n",
       "       [ 6.42904710e-01,  6.87769138e-01,  8.56282284e-01,\n",
       "         1.52457007e+00,  5.42578681e-01],\n",
       "       [ 7.08697196e-02,  1.24314616e-01,  2.74724651e-01,\n",
       "         8.76678370e-01,  4.78640701e-02],\n",
       "       [ 6.97908074e-01,  7.38992276e-01,  9.40701940e-01,\n",
       "         1.71923686e+00,  1.02847410e+00],\n",
       "       [-5.12165944e-01, -4.90363043e-01, -5.69471913e-01,\n",
       "        -8.65950101e-01, -4.49790271e-01],\n",
       "       [ 1.57796191e+00,  1.50733935e+00,  1.40032007e+00,\n",
       "        -3.87692949e-01, -3.19286091e-02],\n",
       "       [-2.70151140e-01, -2.44491979e-01, -5.35740127e-02,\n",
       "         5.95964738e-01, -2.13411958e-01],\n",
       "       [ 1.25873084e-01,  1.96027010e-01,  3.87284193e-01,\n",
       "         1.07907058e+00,  3.30978095e-01],\n",
       "       [-1.40322045e+00, -1.40213490e+00, -1.34800874e+00,\n",
       "        -1.11448606e+00, -1.26451552e+00],\n",
       "       [ 7.52911439e-01,  7.38992276e-01,  6.31163200e-01,\n",
       "         5.88633704e-01,  2.05180021e+00],\n",
       "       [ 3.78888560e-01,  3.80430308e-01,  5.46743544e-01,\n",
       "         1.11544735e+00, -4.63111357e-03],\n",
       "       [-5.45167962e-01, -5.21096926e-01, -5.97611798e-01,\n",
       "        -6.95503567e-01, -4.47390492e-01],\n",
       "       [-6.13499065e-03,  2.18683398e-02,  2.14656819e-02,\n",
       "        -4.01648325e-02,  1.83511625e-01],\n",
       "       [ 1.00592692e+00,  9.74618712e-01,  8.65662245e-01,\n",
       "        -6.17738931e-01, -2.13531947e-01],\n",
       "       [-1.17220632e+00, -1.18699772e+00, -1.25420913e+00,\n",
       "        -1.01120201e+00, -1.04637554e+00],\n",
       "       [ 4.77894616e-01,  4.62387329e-01,  3.96664155e-01,\n",
       "        -7.84867940e-01, -6.00016489e-01],\n",
       "       [ 1.15993634e+00,  1.20000052e+00,  1.38156015e+00,\n",
       "         2.27426107e+00,  1.42425779e+00],\n",
       "       [-2.26148448e-01, -1.83024213e-01, -1.75513516e-01,\n",
       "        -1.32405940e-01, -7.68644864e-02],\n",
       "       [-5.12165944e-01, -5.41586182e-01, -5.22572104e-01,\n",
       "        -5.57049108e-01, -6.30373703e-01],\n",
       "       [ 6.75906728e-01,  7.38992276e-01,  9.40701940e-01,\n",
       "         1.51201916e+00,  1.05283187e+00],\n",
       "       [ 6.20903364e-01,  6.36545999e-01,  8.37522360e-01,\n",
       "         1.43311775e+00,  7.16202752e-01],\n",
       "       [-5.78169981e-01, -5.92809320e-01, -5.50711989e-01,\n",
       "        -7.30001185e-01, -3.72757339e-01],\n",
       "       [ 1.57796191e+00,  1.50733935e+00,  1.40032007e+00,\n",
       "        -4.93250555e-01,  4.99638775e-02],\n",
       "       [ 4.22891252e-01,  4.31653446e-01,  6.31163200e-01,\n",
       "         1.15110495e+00,  4.18210092e-01],\n",
       "       [-2.92152486e-01, -2.85470490e-01, -3.81872676e-01,\n",
       "        -5.82684526e-01, -4.15293436e-01],\n",
       "       [-1.99725678e+00, -1.98607868e+00, -2.04212592e+00,\n",
       "        -1.58664175e+00, -1.78046819e+00],\n",
       "       [ 2.68670280e-02,  2.18683398e-02, -1.09853784e-01,\n",
       "        -2.62322993e-01, -1.02902097e-01],\n",
       "       [-7.21178728e-01, -7.15744852e-01, -7.00791378e-01,\n",
       "        -6.45740696e-01, -5.87957595e-01],\n",
       "       [-1.57923121e+00, -1.63776134e+00, -1.63878756e+00,\n",
       "        -1.56300149e+00, -1.92571486e+00],\n",
       "       [-8.20184784e-01, -7.97701873e-01, -8.97770576e-01,\n",
       "        -8.97617383e-01, -9.62143264e-01],\n",
       "       [ 6.97908074e-01,  6.87769138e-01,  5.56123505e-01,\n",
       "         3.02839387e-01,  1.20695773e+00],\n",
       "       [-1.82145757e-01, -1.83024213e-01, -1.28613707e-01,\n",
       "        -1.72437524e-02,  7.26417969e-02],\n",
       "       [-7.32179401e-01, -6.95255596e-01, -7.57071149e-01,\n",
       "        -7.55984595e-01, -4.24892556e-01],\n",
       "       [-2.26148448e-01, -2.64981235e-01, -2.50553211e-01,\n",
       "        -4.32560732e-01, -2.81805684e-01],\n",
       "       [ 1.24794172e+00,  1.25122366e+00,  1.10954125e+00,\n",
       "         7.95665808e-01,  1.85183856e+00],\n",
       "       [ 9.17921532e-01,  8.92661691e-01,  7.90622551e-01,\n",
       "         4.47720101e-01,  1.49283150e+00],\n",
       "       [-1.63423458e+00, -1.68898448e+00, -1.68568737e+00,\n",
       "        -1.61768265e+00, -1.85414143e+00],\n",
       "       [-8.97189495e-01, -9.20637405e-01, -8.79010653e-01,\n",
       "        -7.83104780e-01, -8.82710552e-01],\n",
       "       [-6.44174018e-01, -6.44032458e-01, -6.06991760e-01,\n",
       "         1.82178924e-01, -7.31104462e-01],\n",
       "       [-6.22172672e-01, -5.92809320e-01, -6.63271531e-01,\n",
       "        -7.68164319e-01, -5.10384712e-01],\n",
       "       [-1.02919757e+00, -1.03332831e+00, -1.01033012e+00,\n",
       "        -3.58647208e-01, -1.02153782e+00],\n",
       "       [ 6.31904037e-01,  6.36545999e-01,  8.09382475e-01,\n",
       "         1.63381640e+00,  5.96753711e-01],\n",
       "       [ 1.46795518e+00,  1.45611621e+00,  1.31590041e+00,\n",
       "         8.92964401e-01,  1.49547126e+00],\n",
       "       [-6.99177383e-01, -6.64521713e-01, -7.28931264e-01,\n",
       "        -5.95560234e-01, -5.04985207e-01],\n",
       "       [ 5.21897308e-01,  5.34099723e-01,  7.24962818e-01,\n",
       "         1.37091996e+00,  5.45758390e-01],\n",
       "       [ 9.83925569e-01,  9.43884829e-01,  8.18762436e-01,\n",
       "         3.75964128e-01,  1.19441888e+00],\n",
       "       [-1.33721641e+00, -1.34066714e+00, -1.31986886e+00,\n",
       "        -4.88030673e-01, -1.22941874e+00],\n",
       "       [-1.30421439e+00, -1.30993326e+00, -1.34800874e+00,\n",
       "        -1.39635967e+00, -1.49777412e+00],\n",
       "       [-8.97189495e-01, -9.00148150e-01, -8.69630691e-01,\n",
       "        -1.29668402e-01, -8.74491306e-01],\n",
       "       [ 1.29194441e+00,  1.35366994e+00,  1.43783992e+00,\n",
       "         2.24670009e+00,  1.42281792e+00],\n",
       "       [-6.22172672e-01, -5.92809320e-01, -6.63271531e-01,\n",
       "        -6.59126792e-01, -5.10384712e-01],\n",
       "       [ 1.69896931e+00,  1.66100877e+00,  1.50349965e+00,\n",
       "         8.20721240e-01,  1.93187122e+00],\n",
       "       [ 1.19293835e+00,  1.14877738e+00,  1.01574163e+00,\n",
       "         5.07017956e-01,  1.87043685e+00],\n",
       "       [-7.32179401e-01, -7.46478735e-01, -7.28931264e-01,\n",
       "        -5.74402314e-01, -6.14415168e-01],\n",
       "       [-2.81363364e-02, -2.93547985e-02, -1.56753593e-01,\n",
       "        -3.87043364e-01,  1.14277977e-01],\n",
       "       [-1.37021843e+00, -1.38164565e+00, -1.44180836e+00,\n",
       "        -1.41014016e+00, -1.38498447e+00]])"
      ]
     },
     "execution_count": 32,
     "metadata": {},
     "output_type": "execute_result"
    }
   ],
   "source": [
    "from sklearn.preprocessing import StandardScaler\n",
    "sc = StandardScaler()\n",
    "sc.fit(X)\n",
    "X = sc.transform(X)\n",
    "X"
   ]
  },
  {
   "cell_type": "code",
   "execution_count": null,
   "id": "8978c947",
   "metadata": {},
   "outputs": [
    {
     "data": {
      "text/plain": [
       "array([4, 1, 5, 5, 3, 4, 3, 5, 1, 4, 1, 3, 1, 1, 5, 4, 4, 4, 0, 6, 4, 0,\n",
       "       5, 3, 2, 4, 0, 1, 0, 3, 0, 0, 1, 4, 4, 1, 4, 5, 5, 0, 0, 6, 6, 4,\n",
       "       4, 0, 4, 0, 5, 5, 0, 0, 0, 4, 0, 6, 4, 0, 6, 3, 6, 4, 4, 4, 4, 2,\n",
       "       4, 4, 5, 1, 4, 4, 0, 4, 4, 0, 1, 0, 2, 0, 4, 0, 4, 4, 4, 3, 0, 6,\n",
       "       4, 1, 4, 6, 4, 4, 6, 1, 4, 0, 6, 4, 2, 0, 0, 0, 4, 5, 0, 0, 1, 4,\n",
       "       0, 4, 2, 5, 4, 5, 0, 2, 1, 0, 0, 1, 5, 0, 4, 4, 4, 1, 6, 4, 4, 1,\n",
       "       4, 1, 4, 4, 6, 1, 3, 4, 3, 0, 4, 4, 0, 4, 3, 6, 3, 0, 4, 4, 4, 1,\n",
       "       4, 6], dtype=int64)"
      ]
     },
     "execution_count": 33,
     "metadata": {},
     "output_type": "execute_result"
    }
   ],
   "source": [
    "y"
   ]
  },
  {
   "cell_type": "code",
   "execution_count": null,
   "id": "2ccb013b",
   "metadata": {},
   "outputs": [],
   "source": [
    "# X_train, X_test, y_train, y_test = train_test_split(X, y, stratify=y, random_state=42, test_size = 0.25)\n",
    "X_train, X_test, y_train, y_test = train_test_split(X, y,  test_size = 0.25)"
   ]
  },
  {
   "cell_type": "code",
   "execution_count": null,
   "id": "588d22bc",
   "metadata": {},
   "outputs": [
    {
     "name": "stdout",
     "output_type": "stream",
     "text": [
      "LR: 0.80 (0.05)\n",
      "LDA: 0.99 (0.01)\n",
      "KNN: 0.74 (0.05)\n",
      "NB: 0.55 (0.05)\n"
     ]
    }
   ],
   "source": [
    "\n",
    "models = []\n",
    "models.append(('LR', LogisticRegression()))\n",
    "models.append(('LDA', LinearDiscriminantAnalysis()))\n",
    "models.append(('KNN', KNeighborsClassifier()))\n",
    "models.append(('NB', GaussianNB()))\n",
    "# models.append(('RF', RandomForestClassifier(n_estimators=num_trees, max_features=max_features)))\n",
    "\n",
    "# evalutate each model in turn\n",
    "results = []\n",
    "names = []\n",
    "for name, model in models:\n",
    "    kfold = KFold(n_splits=3)\n",
    "    cv_results = cross_val_score(model, X, y, cv=kfold, scoring='accuracy')\n",
    "    results.append(cv_results)\n",
    "    names.append(name)\n",
    "    msg = \"%s: %.2f (%.2f)\" % (name, cv_results.mean(), cv_results.std())\n",
    "    print(msg)"
   ]
  },
  {
   "cell_type": "code",
   "execution_count": null,
   "id": "7c50bcfc",
   "metadata": {},
   "outputs": [
    {
     "data": {
      "text/plain": [
       "LinearDiscriminantAnalysis()"
      ]
     },
     "execution_count": 36,
     "metadata": {},
     "output_type": "execute_result"
    }
   ],
   "source": [
    "model = LinearDiscriminantAnalysis()\n",
    "model.fit(X, y)"
   ]
  },
  {
   "cell_type": "code",
   "execution_count": null,
   "id": "2e7e8d3a",
   "metadata": {},
   "outputs": [
    {
     "name": "stdout",
     "output_type": "stream",
     "text": [
      "0.9871794871794872\n"
     ]
    }
   ],
   "source": [
    "cv = RepeatedStratifiedKFold(n_splits=6, n_repeats=3, random_state=1)\n",
    "\n",
    "#evaluate model\n",
    "scores = cross_val_score(model, X, y, scoring='accuracy', cv=cv, n_jobs=-1)\n",
    "print(np.mean(scores))   "
   ]
  },
  {
   "cell_type": "code",
   "execution_count": 9,
   "id": "9242c464",
   "metadata": {},
   "outputs": [
    {
     "ename": "NameError",
     "evalue": "name 'model' is not defined",
     "output_type": "error",
     "traceback": [
      "\u001b[1;31m---------------------------------------------------------------------------\u001b[0m",
      "\u001b[1;31mNameError\u001b[0m                                 Traceback (most recent call last)",
      "\u001b[1;32m~\\AppData\\Local\\Temp\\ipykernel_2448\\1515264866.py\u001b[0m in \u001b[0;36m<module>\u001b[1;34m\u001b[0m\n\u001b[0;32m      1\u001b[0m \u001b[1;31m# save model as pickle format\u001b[0m\u001b[1;33m\u001b[0m\u001b[1;33m\u001b[0m\u001b[1;33m\u001b[0m\u001b[0m\n\u001b[0;32m      2\u001b[0m \u001b[1;32mimport\u001b[0m \u001b[0mpickle\u001b[0m\u001b[1;33m\u001b[0m\u001b[1;33m\u001b[0m\u001b[0m\n\u001b[1;32m----> 3\u001b[1;33m \u001b[0mdata\u001b[0m \u001b[1;33m=\u001b[0m \u001b[1;33m{\u001b[0m\u001b[1;34m\"model\"\u001b[0m\u001b[1;33m:\u001b[0m \u001b[0mmodel\u001b[0m\u001b[1;33m}\u001b[0m\u001b[1;33m\u001b[0m\u001b[1;33m\u001b[0m\u001b[0m\n\u001b[0m\u001b[0;32m      4\u001b[0m \u001b[1;32mwith\u001b[0m \u001b[0mopen\u001b[0m\u001b[1;33m(\u001b[0m\u001b[1;34m'picklemodel.pkl'\u001b[0m\u001b[1;33m,\u001b[0m \u001b[1;34m'wb'\u001b[0m\u001b[1;33m)\u001b[0m \u001b[1;32mas\u001b[0m \u001b[0mfile\u001b[0m\u001b[1;33m:\u001b[0m\u001b[1;33m\u001b[0m\u001b[1;33m\u001b[0m\u001b[0m\n\u001b[0;32m      5\u001b[0m     \u001b[0mpickle\u001b[0m\u001b[1;33m.\u001b[0m\u001b[0mdump\u001b[0m\u001b[1;33m(\u001b[0m\u001b[0mdata\u001b[0m\u001b[1;33m,\u001b[0m \u001b[0mfile\u001b[0m\u001b[1;33m)\u001b[0m\u001b[1;33m\u001b[0m\u001b[1;33m\u001b[0m\u001b[0m\n",
      "\u001b[1;31mNameError\u001b[0m: name 'model' is not defined"
     ]
    }
   ],
   "source": [
    "# save model as pickle format\n",
    "import pickle\n",
    "data = {\"model\": model}\n",
    "with open('picklemodel.pkl', 'wb') as file:\n",
    "    pickle.dump(data, file)\n",
    "\n"
   ]
  },
  {
   "cell_type": "code",
   "execution_count": 11,
   "id": "68242492",
   "metadata": {},
   "outputs": [],
   "source": [
    "# load the pickle format model and test\n",
    "with open('picklemodel.pkl', 'rb') as file:\n",
    "\n",
    "    data = pickle.load(file)\n",
    "\n",
    "pickle_loaded = data[\"model\"]\n",
    "\n",
    "# scores = cross_val_score(pickle_loaded, X, y, scoring='accuracy', cv=cv, n_jobs=-1)\n",
    "# print(np.mean(scores)) \n"
   ]
  },
  {
   "cell_type": "code",
   "execution_count": 17,
   "id": "5eabbb22",
   "metadata": {},
   "outputs": [
    {
     "data": {
      "text/plain": [
       "4"
      ]
     },
     "execution_count": 17,
     "metadata": {},
     "output_type": "execute_result"
    }
   ],
   "source": [
    "input =np.array([[60, 70, 30.0, 11.5200, 4.0200]])\n",
    "prediction = pickle_loaded.predict(input)\n",
    "prediction[0]"
   ]
  },
  {
   "cell_type": "markdown",
   "id": "f6a727c3",
   "metadata": {},
   "source": [
    "### Conclustion\n",
    "LDA Model is the best for this solution"
   ]
  },
  {
   "cell_type": "code",
   "execution_count": 18,
   "id": "25c8f9e4",
   "metadata": {},
   "outputs": [],
   "source": [
    "dic = {0: \"Bream\", 1: \"Roach\", 2: \"Whitefish\", 3: \"Parkti\", 4: \"Perch\", 5: \"Pike\", 6: \"Smelt\"}"
   ]
  },
  {
   "cell_type": "code",
   "execution_count": 20,
   "id": "de45b375",
   "metadata": {},
   "outputs": [
    {
     "data": {
      "text/plain": [
       "'Roach'"
      ]
     },
     "execution_count": 20,
     "metadata": {},
     "output_type": "execute_result"
    }
   ],
   "source": [
    "num = 1\n",
    "dic[num]"
   ]
  }
 ],
 "metadata": {
  "kernelspec": {
   "display_name": "Python 3.7.13 ('ML_PY37')",
   "language": "python",
   "name": "python3"
  },
  "language_info": {
   "codemirror_mode": {
    "name": "ipython",
    "version": 3
   },
   "file_extension": ".py",
   "mimetype": "text/x-python",
   "name": "python",
   "nbconvert_exporter": "python",
   "pygments_lexer": "ipython3",
   "version": "3.7.13"
  },
  "vscode": {
   "interpreter": {
    "hash": "c1e3386face7936131132986bb8a7714133349bc6a4bfdaf3459b7febd6a05f9"
   }
  }
 },
 "nbformat": 4,
 "nbformat_minor": 5
}
